{
 "cells": [
  {
   "cell_type": "code",
   "execution_count": 1,
   "metadata": {
    "collapsed": true
   },
   "outputs": [],
   "source": [
    "import copy\n",
    "import pickle"
   ]
  },
  {
   "cell_type": "code",
   "execution_count": 2,
   "metadata": {
    "collapsed": false
   },
   "outputs": [],
   "source": [
    "class Run():\n",
    "    def __init__(self):\n",
    "        pass\n",
    "\n",
    "class Runset():\n",
    "    def __init__(self):\n",
    "        self.runs = []\n",
    "        \n",
    "    def add(self,run):\n",
    "        self.runs.append(run)\n",
    "        \n",
    "    def get_description(self):\n",
    "        for i in range(len(self.runs)):\n",
    "            print( \"%02d %s\"%(i,self.runs[i].description) )\n",
    "    def get_folder(self):\n",
    "        for i in range(len(self.runs)):\n",
    "            print( \"%02d %s\"%(i,self.runs[i].folder) )\n",
    "        \n",
    "    def save(self):\n",
    "        name=\"db\"\n",
    "        with open(name, 'wb') as output:\n",
    "            pickle.dump(self, output,-1)\n",
    "            \n",
    "    def load(self):\n",
    "        name=\"db\"\n",
    "        with open(name, 'rb') as input:\n",
    "            tmp=pickle.load(input)\n",
    "        self.runs = tmp.runs"
   ]
  },
  {
   "cell_type": "code",
   "execution_count": 3,
   "metadata": {
    "collapsed": true
   },
   "outputs": [],
   "source": [
    "runset=Runset()\n",
    "r=Run()"
   ]
  },
  {
   "cell_type": "code",
   "execution_count": 4,
   "metadata": {
    "collapsed": false
   },
   "outputs": [],
   "source": [
    "r.description=\"run de base -> m2\"\n",
    "r.folder=\"/home/deparis/curie_data/data/8_8_gather_6/\"\n",
    "r.colors=\"Red\"\n",
    "r.labels=\"m2 SN1\"\n",
    "runset.add(copy.copy(r))\n",
    "\n",
    "r.description=\"masse d'etoile *8 -> m1\"\n",
    "r.folder=\"/home/deparis/curie_data/data/8_8_gather_7/\"\n",
    "r.colors=\"Blue\"\n",
    "r.labels=\"m1 SN1\"\n",
    "runset.add(copy.copy(r))\n",
    "\n",
    "r.description=\"même masse d'étoile mais pas de SN\"\n",
    "r.folder=\"/home/deparis/curie_data/data/8_8_gather_8/\"\n",
    "r.colors=\"Green\"\n",
    "r.labels=\"m2 SN0\"\n",
    "runset.add(copy.copy(r))\n",
    "\n",
    "r.description=\"masse d'etoile *8 mais pas de SN\"\n",
    "r.folder=\"/home/deparis/curie_data/data/8_8_gather_9/\"\n",
    "r.colors=\"Cyan\"\n",
    "r.labels=\"m1 SN0\"\n",
    "runset.add(copy.copy(r))\n",
    "\n",
    "r.description=\"masse d'étoile /8 -> m3\"\n",
    "r.folder=\"/home/deparis/curie_data/data/8_8_gather_10/\"\n",
    "r.colors=\"#cc9900\"\n",
    "r.labels=\"m3 SN1\"\n",
    "runset.add(copy.copy(r))\n",
    "\n",
    "r.description=\"même masse d'étoile mais SN thermique\"\n",
    "r.folder=\"/home/deparis/curie_data/data/8_8_gather_11/\"\n",
    "r.colors=\"#cc9900\"\n",
    "r.labels=\"m2 SN th\"\n",
    "runset.add(copy.copy(r))\n",
    "\n",
    "r.description=\"même masse d'étoile mais SN kin simple sans eject\"\n",
    "r.folder=\"/home/deparis/curie_data/data/8_8_gather_12/\"\n",
    "r.colors=\"#cc9900\"\n",
    "r.labels=\"m2 SN th\"\n",
    "runset.add(copy.copy(r))\n",
    "\n",
    "r.description=\"même masse d'étoile mais SN kin simple avec eject\"\n",
    "r.folder=\"/home/deparis/curie_data/data/8_8_gather_13/\"\n",
    "r.colors=\"Blue\"\n",
    "r.labels=\"SN kin simple\"\n",
    "runset.add(copy.copy(r))\n",
    "\n",
    "r.description=\"même masse d'étoile mais sans tirage de Poisson __ DOUTE\"\n",
    "r.folder=\"/home/deparis/curie_data/data/8_8_gather_14/\"\n",
    "r.colors=\"Blue\"\n",
    "r.labels=\"no random\"\n",
    "runset.add(copy.copy(r))\n",
    "\n",
    "r.description=\"tout pareil mais avec flux __ PROBLEME\"\n",
    "r.folder=\"/home/deparis/curie_data/data/8_8_gather_15/\"\n",
    "r.colors=\"Blue\"\n",
    "r.labels=\"no random\"\n",
    "runset.add(copy.copy(r))\n",
    "\n",
    "r.description=\"RERUN tout pareil mais avec flux\"\n",
    "r.folder=\"/home/deparis/curie_data/data/8_8_gather_16/\"\n",
    "r.colors=\"Blue\"\n",
    "r.labels=\"no random\"\n",
    "runset.add(copy.copy(r))"
   ]
  },
  {
   "cell_type": "code",
   "execution_count": 5,
   "metadata": {
    "collapsed": true
   },
   "outputs": [],
   "source": [
    "runset.save()"
   ]
  },
  {
   "cell_type": "code",
   "execution_count": 6,
   "metadata": {
    "collapsed": false
   },
   "outputs": [],
   "source": [
    "# runset2=Runset()\n",
    "# runset2.load()\n",
    "# runset2.get_desc()"
   ]
  }
 ],
 "metadata": {
  "kernelspec": {
   "display_name": "Python 3",
   "language": "python",
   "name": "python3"
  },
  "language_info": {
   "codemirror_mode": {
    "name": "ipython",
    "version": 3
   },
   "file_extension": ".py",
   "mimetype": "text/x-python",
   "name": "python",
   "nbconvert_exporter": "python",
   "pygments_lexer": "ipython3",
   "version": "3.4.3"
  }
 },
 "nbformat": 4,
 "nbformat_minor": 0
}
