{
 "cells": [
  {
   "cell_type": "code",
   "execution_count": 5,
   "metadata": {
    "collapsed": false
   },
   "outputs": [
    {
     "name": "stdout",
     "output_type": "stream",
     "text": [
      "/home/deparis/Emma\n"
     ]
    }
   ],
   "source": [
    "import copy\n",
    "\n",
    "import sys\n",
    "sys.path.insert(0,\"/home/deparis/jupyter/\")\n",
    "from pyemma import *\n",
    "%cd \"~/Emma\""
   ]
  },
  {
   "cell_type": "code",
   "execution_count": 8,
   "metadata": {
    "collapsed": false
   },
   "outputs": [],
   "source": [
    "runset=db.Runset()\n",
    "r=db.Run()"
   ]
  },
  {
   "cell_type": "code",
   "execution_count": 9,
   "metadata": {
    "collapsed": false
   },
   "outputs": [],
   "source": [
    "r.description=\"run de base -> m2\"\n",
    "r.folder=\"/home/deparis/curie_data/data/8_8_gather_6/\"\n",
    "r.colors=\"Red\"\n",
    "r.labels=\"m2 SN1\"\n",
    "runset.add(copy.copy(r))\n",
    "\n",
    "r.description=\"masse d'etoile *8 -> m1\"\n",
    "r.folder=\"/home/deparis/curie_data/data/8_8_gather_7/\"\n",
    "r.colors=\"Blue\"\n",
    "r.labels=\"m1 SN1\"\n",
    "runset.add(copy.copy(r))\n",
    "\n",
    "r.description=\"même masse d'étoile mais pas de SN\"\n",
    "r.folder=\"/home/deparis/curie_data/data/8_8_gather_8/\"\n",
    "r.colors=\"Green\"\n",
    "r.labels=\"m2 SN0\"\n",
    "runset.add(copy.copy(r))\n",
    "\n",
    "r.description=\"masse d'etoile *8 mais pas de SN\"\n",
    "r.folder=\"/home/deparis/curie_data/data/8_8_gather_9/\"\n",
    "r.colors=\"Cyan\"\n",
    "r.labels=\"m1 SN0\"\n",
    "runset.add(copy.copy(r))\n",
    "\n",
    "r.description=\"masse d'étoile /8 -> m3\"\n",
    "r.folder=\"/home/deparis/curie_data/data/8_8_gather_10/\"\n",
    "r.colors=\"#cc9900\"\n",
    "r.labels=\"m3 SN1\"\n",
    "runset.add(copy.copy(r))\n",
    "\n",
    "r.description=\"même masse d'étoile mais SN thermique\"\n",
    "r.folder=\"/home/deparis/curie_data/data/8_8_gather_11/\"\n",
    "r.colors=\"#cc9900\"\n",
    "r.labels=\"m2 SN th\"\n",
    "runset.add(copy.copy(r))\n",
    "\n",
    "r.description=\"même masse d'étoile mais SN kin simple sans eject\"\n",
    "r.folder=\"/home/deparis/curie_data/data/8_8_gather_12/\"\n",
    "r.colors=\"#cc9900\"\n",
    "r.labels=\"m2 SN th\"\n",
    "runset.add(copy.copy(r))\n",
    "\n",
    "r.description=\"même masse d'étoile mais SN kin simple avec eject\"\n",
    "r.folder=\"/home/deparis/curie_data/data/8_8_gather_13/\"\n",
    "r.colors=\"Blue\"\n",
    "r.labels=\"SN kin simple\"\n",
    "runset.add(copy.copy(r))\n",
    "\n",
    "r.description=\"même masse d'étoile mais sans tirage de Poisson __ DOUTE\"\n",
    "r.folder=\"/home/deparis/curie_data/data/8_8_gather_14/\"\n",
    "r.colors=\"Blue\"\n",
    "r.labels=\"no random\"\n",
    "runset.add(copy.copy(r))\n",
    "\n",
    "r.description=\"tout pareil mais avec flux __ PROBLEME\"\n",
    "r.folder=\"/home/deparis/curie_data/data/8_8_gather_15/\"\n",
    "r.colors=\"Blue\"\n",
    "r.labels=\"no random\"\n",
    "runset.add(copy.copy(r))\n",
    "\n",
    "r.description=\"RERUN tout pareil mais avec flux\"\n",
    "r.folder=\"/home/deparis/curie_data/data/8_8_gather_16/\"\n",
    "r.colors=\"Blue\"\n",
    "r.labels=\"no random\"\n",
    "runset.add(copy.copy(r))"
   ]
  },
  {
   "cell_type": "code",
   "execution_count": 27,
   "metadata": {
    "collapsed": true
   },
   "outputs": [],
   "source": [
    "r.description=\"run de test\"\n",
    "r.folder=\"/home/deparis/curie_data/data/verif_128/\"\n",
    "r.colors=\"Blue\"\n",
    "r.labels=\"test\"\n",
    "runset.add(copy.copy(r))\n",
    "\n",
    "r.description=\"run de test avec contrainte sur la fraction d'ionisation au niveau des source\"\n",
    "r.folder=\"/home/deparis/curie_data/data/verif_128_constrain//\"\n",
    "r.colors=\"Blue\"\n",
    "r.labels=\"constrain test\"\n",
    "runset.add(copy.copy(r))"
   ]
  },
  {
   "cell_type": "code",
   "execution_count": 10,
   "metadata": {
    "collapsed": true
   },
   "outputs": [],
   "source": [
    "runset.save()"
   ]
  },
  {
   "cell_type": "code",
   "execution_count": 29,
   "metadata": {
    "collapsed": false
   },
   "outputs": [],
   "source": [
    "# runset2=Runset()\n",
    "# runset2.load()\n",
    "# runset2.get_description()"
   ]
  }
 ],
 "metadata": {
  "kernelspec": {
   "display_name": "Python 3",
   "language": "python",
   "name": "python3"
  },
  "language_info": {
   "codemirror_mode": {
    "name": "ipython",
    "version": 3
   },
   "file_extension": ".py",
   "mimetype": "text/x-python",
   "name": "python",
   "nbconvert_exporter": "python",
   "pygments_lexer": "ipython3",
   "version": "3.4.3"
  }
 },
 "nbformat": 4,
 "nbformat_minor": 0
}
