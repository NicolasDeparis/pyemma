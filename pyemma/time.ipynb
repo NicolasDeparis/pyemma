{
 "cells": [
  {
   "cell_type": "code",
   "execution_count": 3,
   "metadata": {
    "collapsed": false
   },
   "outputs": [],
   "source": [
    "import numpy as np\n",
    "from scipy import integrate"
   ]
  },
  {
   "cell_type": "code",
   "execution_count": 6,
   "metadata": {
    "collapsed": false
   },
   "outputs": [],
   "source": [
    "def a2t_quad(az, o_m, H0):\n",
    "    \n",
    "    o_v=1.-o_m\n",
    "    \n",
    "    H0 = H0*1e3/1e6/3.08567758e16*(365*24*3600) # Hubble constant in SI unit\n",
    "\n",
    "    def f(a):\n",
    "        return a/ np.sqrt(o_m*a + o_v*a**4 )\n",
    "\n",
    "    return 1./H0 * integrate.quad(f,0,az)[0]"
   ]
  }
 ],
 "metadata": {
  "kernelspec": {
   "display_name": "Python 3",
   "language": "python",
   "name": "python3"
  },
  "language_info": {
   "codemirror_mode": {
    "name": "ipython",
    "version": 3
   },
   "file_extension": ".py",
   "mimetype": "text/x-python",
   "name": "python",
   "nbconvert_exporter": "python",
   "pygments_lexer": "ipython3",
   "version": "3.4.3"
  }
 },
 "nbformat": 4,
 "nbformat_minor": 0
}
