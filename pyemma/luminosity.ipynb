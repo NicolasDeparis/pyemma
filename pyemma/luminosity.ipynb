{
 "cells": [
  {
   "cell_type": "code",
   "execution_count": null,
   "metadata": {
    "collapsed": true
   },
   "outputs": [],
   "source": [
    "import os, sys\n",
    "import numpy as np\n",
    "from scipy import integrate"
   ]
  },
  {
   "cell_type": "code",
   "execution_count": 5,
   "metadata": {
    "collapsed": true
   },
   "outputs": [],
   "source": [
    "def mag2flux(mag):\n",
    "    flux = np.power(10,-mag/2.5)\n",
    "    return flux"
   ]
  },
  {
   "cell_type": "code",
   "execution_count": null,
   "metadata": {
    "collapsed": true
   },
   "outputs": [],
   "source": [
    "def flux2mag(flux):\n",
    "    mag = -2.5*np.log10(flux)\n",
    "    return mag"
   ]
  },
  {
   "cell_type": "code",
   "execution_count": 5,
   "metadata": {
    "collapsed": true
   },
   "outputs": [],
   "source": [
    "def readStarburst(convert=False):\n",
    "\n",
    "    filename=\"/home/deparis/jupyter/Starburst99/fig1e.dat.txt\"\n",
    "    #reading header\n",
    "    with open(filename, 'r') as file:\n",
    "        file.readline()\n",
    "        file.readline()\n",
    "        name=file.readline().split()[2:]\n",
    "\n",
    "    age = [\tfloat(n[:-3])*1e6 for n in name]\n",
    "\n",
    "    #loading data\n",
    "    data = np.loadtxt(filename,unpack=True, skiprows=3)\n",
    "    data[1:] = np.power(10,data[1:])\n",
    "\n",
    "    if convert :\n",
    "        print (\"converting unit to SI\")\n",
    "        data[0]  *= 1e-10 #A->m\n",
    "        data[1:] *= 1e-7/1e-10 #log(Erg/A) -> J/m/s\n",
    "\n",
    "    return age,data[0], data[1:]"
   ]
  },
  {
   "cell_type": "code",
   "execution_count": 10,
   "metadata": {
    "collapsed": true
   },
   "outputs": [],
   "source": [
    "def getM1600(_x0, spectremodeleenergparsparAngstrom):\n",
    "    \"\"\"\n",
    "    Pour calculer M1600 pour un spectre modèle défini par spectremodeleenergparsparAngstrom \n",
    "    et ses songeurs d’onde _x0:\n",
    "\n",
    "    flux de ref F0: 3631 Jy\n",
    "    Jyhzcm=1.e-23; //  erg s-1 Hz-1 cm-2\n",
    "    Jyhzm=1.e-19; // erg s-1 Hz-1 m-2\n",
    "    // so for absolute mags the 0 point is Jyhzm * 4pir^2 where r = 10 pc\n",
    "    AB0pointabs=3631.*Jyhzm*4.*pi*(10.*ParSec)^2; // erg/s/Hz // cause ParSec\n",
    "    \"\"\"\n",
    "\n",
    "\n",
    "    F0 = 3631 #Jy\n",
    "    Jyhzcm=1.e-23; #  erg s-1 Hz-1 cm-2\n",
    "    Jyhzm=1.e-19; # erg s-1 Hz-1 m-2\n",
    "    #so for absolute mags the 0 point is Jyhzm * 4pir^2 where r = 10 pc\n",
    "    parsec=3.08567758e16\n",
    "    AB0pointabs=F0*Jyhzm*4.*np.pi*(10.*parsec)**2; # erg/s/Hz // cause ParSec\n",
    "\n",
    "    \"\"\"\n",
    "    // or flam = Fnu * (-c/lam^2)\n",
    "    // so lets make a reference spectrum corresponding to the 0-pointABabsloulte\n",
    "    AB0pointref=AB0pointabs*(c*1.e10/((_x0)^2)); // in erg/s/A (thats why we have to put c in Angstrom/s)\n",
    "    _x0 c’est les longueurs d’onde en Angstrom de ton spectre de pop stellaire\n",
    "    \"\"\"\n",
    "    c=299792458 #light speed\n",
    "    AB0pointref=AB0pointabs*(c*1.e10/((_x0)**2)); # in erg/s/A (thats why we have to put c in Angstrom/s)\n",
    "\n",
    "    \"\"\"\n",
    "    fi1600=_x0*0.;   // creation d’un filtre\n",
    "    fi1600(180:205)=1.;   // le filtre vaut 1 entre 1500 et 1600 Angstrom\n",
    "    MAB1600=-2.5*log10(integ(fi1600*spectremodeleenergparsparAngstrom,_x0)/integ(fi1600*AB0pointref,_x0));\n",
    "    MAB1600;\n",
    "\n",
    "    A répéter pour tous les spectres modèle. \n",
    "    \"\"\"\n",
    "\n",
    "    mask = np.where( (_x0>=1500) & (_x0<=1600))#le filtre vaut 1 entre 1500 et 1600 Angstrom\n",
    "    MAB1600=-2.5*np.log10(integrate.trapz(spectremodeleenergparsparAngstrom[mask],\n",
    "                                          _x0[mask])/integrate.trapz(AB0pointref[mask],\n",
    "                                        _x0[mask]))\n",
    "\n",
    "    return MAB1600"
   ]
  },
  {
   "cell_type": "code",
   "execution_count": 1,
   "metadata": {
    "collapsed": true
   },
   "outputs": [],
   "source": [
    "def getModel():\n",
    "    age, wavelength, spectre = readStarburst()\n",
    "\n",
    "    n = len(age)\n",
    "    modelMag = np.zeros(n)\n",
    "\n",
    "    for i in range(n):\n",
    "        modelMag[i] = getM1600(wavelength, spectre[i])\n",
    "\n",
    "    return  modelMag, age"
   ]
  },
  {
   "cell_type": "code",
   "execution_count": 9,
   "metadata": {
    "collapsed": true
   },
   "outputs": [],
   "source": [
    "def sumMag(mass, age, modelmag, modelage):\n",
    "    mags=np.interp(age,modelage,modelmag)\n",
    "    res=np.sum(mass*np.power(10,-mags/2.5))\n",
    "    return -2.5*np.log10(res)"
   ]
  },
  {
   "cell_type": "code",
   "execution_count": 14,
   "metadata": {
    "collapsed": true
   },
   "outputs": [],
   "source": [
    "def get_all_flux_1600(stars,current_time,a,unit_mass):\n",
    "    \"\"\"\n",
    "    get luminous flux of stars\n",
    "    \"\"\"\n",
    "    \n",
    "    modelmag, modelage = getModel()\n",
    "    age = current_time - stars.age.data\n",
    "    mass = stars.mass.data/1.9891e30*unit_mass/1e6\n",
    "    mags=np.interp(age,modelage,modelmag)\n",
    "    flux = mass * mag2flux(mags)\n",
    "    \n",
    "    stars.flux_1600=flux"
   ]
  },
  {
   "cell_type": "code",
   "execution_count": 6,
   "metadata": {
    "collapsed": true
   },
   "outputs": [],
   "source": [
    "def get_all_flux_UV(stars,current_time,a,unit_mass):\n",
    "    \"\"\"\n",
    "    get luminous flux of stars\n",
    "    \"\"\"\n",
    "    \n",
    "    def getflux_UV(age):\n",
    "        tlife = 3.673e6 #yr\n",
    "        E0 = 3.399e16 *(365*24*3600) #phot/s/kg\n",
    "        y=np.ones(len(age)) *E0    \n",
    "        y[age>tlife] *= np.power(age[age>tlife]/tlife ,-4.)        \n",
    "        return y \n",
    "        \n",
    "    mass = stars.mass.data*unit_mass # kg\n",
    "    flux = getflux_UV(current_time - stars.age.data) # #phot/s/kg\n",
    "    stars.flux_UV = mass * flux #phot/s"
   ]
  },
  {
   "cell_type": "code",
   "execution_count": 3,
   "metadata": {
    "collapsed": true
   },
   "outputs": [],
   "source": [
    "def get_tot_egy(age, tlife):\n",
    "    \"\"\"\n",
    "    return the total energy emmited by a source \n",
    "    \"\"\"\n",
    "    def f(t, tlife):\n",
    "        if t<=tlife :\n",
    "            return 1.\n",
    "        else:\n",
    "            return np.power(t/tlife ,-4.)\n",
    "    \n",
    "    return integrate.quad(f,0,age, args=(tlife))[0]"
   ]
  }
 ],
 "metadata": {
  "kernelspec": {
   "display_name": "Python 3",
   "language": "python",
   "name": "python3"
  },
  "language_info": {
   "codemirror_mode": {
    "name": "ipython",
    "version": 3
   },
   "file_extension": ".py",
   "mimetype": "text/x-python",
   "name": "python",
   "nbconvert_exporter": "python",
   "pygments_lexer": "ipython3",
   "version": "3.4.3"
  }
 },
 "nbformat": 4,
 "nbformat_minor": 0
}
