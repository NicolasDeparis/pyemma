{
 "cells": [
  {
   "cell_type": "code",
   "execution_count": null,
   "metadata": {
    "collapsed": true
   },
   "outputs": [],
   "source": [
    "import os\n",
    "import numpy as np\n",
    "import h5py"
   ]
  },
  {
   "cell_type": "code",
   "execution_count": null,
   "metadata": {
    "collapsed": true
   },
   "outputs": [],
   "source": [
    "class Run:\n",
    "    \"\"\"\n",
    "    Run object \n",
    "    create a Param object and n Step object.\n",
    "    look for subfolder of data/ with name convertible into int\n",
    "    \"\"\"\n",
    "\n",
    "    def __init__(self,folder):\n",
    "        self.folder=folder\n",
    "        self._data_folder=folder+\"data/\"\n",
    "        self.step_list=[]\n",
    "        \n",
    "        for folder in os.listdir(self._data_folder):\n",
    "            try:\n",
    "                stepnum=int(folder)\n",
    "            except ValueError:\n",
    "                continue\n",
    "                    \n",
    "            key=\"step_%05d\"%stepnum\n",
    "            val= Step(stepnum, self._data_folder)\n",
    "            setattr(self,key,val)\n",
    "\n",
    "            self.step_list.append(val)\n",
    "        self.param=Param(self.folder)"
   ]
  },
  {
   "cell_type": "code",
   "execution_count": null,
   "metadata": {
    "collapsed": true
   },
   "outputs": [],
   "source": [
    "class Step:\n",
    "    def __init__(self,number,folder):\n",
    "        \"\"\"\n",
    "        Step object\n",
    "        \"\"\"\n",
    "\n",
    "        self.number=number\n",
    "        self.folder=folder\n",
    "        \n",
    "\n",
    "        self.part=Fields(number,folder,0)\n",
    "        self.star=Fields(number,folder,1)\n",
    "        self.grid=Fields(number,folder,2)\n",
    "  \n",
    "#       import hop      \n",
    "#       self.hop=hop.Hop(number,folder)\n",
    "\n",
    "        import fof     \n",
    "        self.fof=fof.Fof(folder,number)\n",
    "        \n",
    "    \n",
    "        self.part.get_a()\n",
    "        self.a=self.part.a\n",
    "            \n",
    "        "
   ]
  },
  {
   "cell_type": "code",
   "execution_count": null,
   "metadata": {
    "collapsed": true
   },
   "outputs": [],
   "source": [
    "class Fields:\n",
    "    def __init__(self, number,folder, sets_type):\n",
    "        \"\"\"\n",
    "        Create a set of field object\n",
    "        \"\"\"\n",
    "\n",
    "        self._number=number\n",
    "        self._sets_type = sets_type        \n",
    "\n",
    "        if sets_type==0:\n",
    "            self._type=\"part_\"\n",
    "        elif sets_type==1:\n",
    "            self._type=\"star_\"\n",
    "        elif sets_type==2:\n",
    "            self._type=\"grid_\"\n",
    "\n",
    "        path = \"%s%05d/\"%(folder,number)\n",
    "        for cur_folder in  os.listdir(path):\n",
    "            \n",
    "            if  os.path.isdir(\"%s%s\"%(path,cur_folder)):\n",
    "                continue\n",
    "            if not \"h5\" in cur_folder:\n",
    "                continue\n",
    "                \n",
    "            if self._type in cur_folder:\n",
    "                key=cur_folder[5:].replace(\".\",\"_\").replace(\"[\",\"\").replace(\"]\",\"\")\n",
    "                key=key[:-9]\n",
    "                val= Field(folder,number,cur_folder[:-9])                \n",
    "                setattr(self,key,val)\n",
    "        \n",
    "        self.get_a()\n",
    "                        \n",
    "    def get_a(self,force=0):\n",
    "        \"\"\"\n",
    "        get the scale factor.\n",
    "        \"\"\"        \n",
    "        for i in self.__dict__ :\n",
    "            if self.__dict__[i].__class__.__name__ == \"Field\":\n",
    "                self.a=self.__dict__[i].get_a()                \n",
    "                return\n",
    "        "
   ]
  },
  {
   "cell_type": "code",
   "execution_count": null,
   "metadata": {
    "collapsed": true
   },
   "outputs": [],
   "source": [
    "class Field():\n",
    "    \"\"\"\n",
    "    Field object\n",
    "    \"\"\"\n",
    "    def __init__(self,runpath,stepnum,field):        \n",
    "        self._runpath=runpath     \n",
    "        self._stepnum=stepnum\n",
    "        self._field=field\n",
    "\n",
    "        self._field_folder=\"%s%05d/\"%(runpath,stepnum)\n",
    "        cur_field = field[5:]\n",
    "        \n",
    "        self._filename=\"%s%s_%05d.h5\"%(self._field_folder,field,stepnum)\n",
    "        self._isloadded=False\n",
    "        \n",
    "    def __getattr__(self, name):                            \n",
    "        if name == 'data':\n",
    "            self.read()\n",
    "            return self.__getattribute__(name)\n",
    "        else:        \n",
    "            raise AttributeError\n",
    "\n",
    "    def read(self, xmin=0,xmax=1,ymin=0,ymax=1,zmin=0,zmax=1, force=0):\n",
    "\n",
    "        if not self._isloadded or force :\n",
    "            print(\"reading %s\"%self._field)\n",
    "            \n",
    "            f = h5py.File(self._filename, \"r\")\n",
    "            self.a=f.attrs['a']\n",
    "            self.data=f['data'][:]\n",
    "            f.close()\n",
    "            \n",
    "            self._isloadded=True\n",
    "        else:\n",
    "            print(\"%s allready loaded, use force=1 to reload\"%self._field)\n",
    "            \n",
    "    def get_a(self):\n",
    "        \"\"\"\n",
    "        read the scale factor\n",
    "        \"\"\"\n",
    "        f = h5py.File(self._filename, \"r\")\n",
    "        return f.attrs['a']"
   ]
  },
  {
   "cell_type": "markdown",
   "metadata": {},
   "source": [
    "# Parameter files"
   ]
  },
  {
   "cell_type": "code",
   "execution_count": null,
   "metadata": {
    "collapsed": true
   },
   "outputs": [],
   "source": [
    "class Info:\n",
    "    \"\"\"\n",
    "    Reader for param.info\n",
    "    \"\"\"\n",
    "    def __init__(self, folder):\n",
    "        filename = \"%s%s\"%(folder,\"data/param.info\")\n",
    "        with open(filename) as f:\n",
    "\n",
    "            for line in f:\n",
    "                if line[0]!=\"#\":\n",
    "                    (key, val) = line.split()\n",
    "                    try :\n",
    "                        val=np.float64(val)\n",
    "                    except ValueError:\n",
    "                        pass\n",
    "                    setattr(self,key,val)"
   ]
  },
  {
   "cell_type": "code",
   "execution_count": null,
   "metadata": {
    "collapsed": true
   },
   "outputs": [],
   "source": [
    "class RunParam:\n",
    "    \"\"\"\n",
    "    Reader for param.run\n",
    "    \"\"\"\n",
    "    def __init__(self,folder):\n",
    "        filename = \"%s%s\"%(folder,\"SRC/param.run\")\n",
    "        with open(filename) as f:\n",
    "            for line in f:\n",
    "                if line[0]!=\"#\":\n",
    "                    (key, val) = line.split()\n",
    "                    try :\n",
    "                        val=np.float64(val)\n",
    "                    except ValueError:\n",
    "                        pass\n",
    "                    setattr(self,key,val)"
   ]
  },
  {
   "cell_type": "code",
   "execution_count": null,
   "metadata": {
    "collapsed": true
   },
   "outputs": [],
   "source": [
    "class FieldAvg:\n",
    "    \"\"\"\n",
    "    Reader for avg/field.avg\n",
    "    \"\"\"\n",
    "    def __init__(self,folder,field):\n",
    "        filename = \"%s%s%s\"%(folder,\"data/avg/\",field)\n",
    "        with open(filename) as f:\n",
    "            data= np.loadtxt(filename,unpack=True)\n",
    "        setattr(self,\"a\",data[0])\n",
    "        setattr(self,\"mean\",data[1])\n",
    "        setattr(self,\"sigma\",data[2])\n",
    "        setattr(self,\"min\",data[3])\n",
    "        setattr(self,\"max\",data[4])"
   ]
  },
  {
   "cell_type": "code",
   "execution_count": null,
   "metadata": {
    "collapsed": true
   },
   "outputs": [],
   "source": [
    "class Avg:\n",
    "    \"\"\"\n",
    "    Reader for param.avg\n",
    "    \"\"\"\n",
    "    def __init__(self,folder):\n",
    "        filename = \"%s%s\"%(folder,\"data/param.avg.cpu\")\n",
    "        with open(filename) as f:\n",
    "            header=f.readline().split(\"\\t\")\n",
    "            data= np.loadtxt(filename,skiprows=1,unpack=True)\n",
    "\n",
    "            i=0\n",
    "            for field in header:\n",
    "                if (field !='')&(field !='\\n') :\n",
    "                    try:\n",
    "                        setattr(self,field,data[i])\n",
    "                    except IndexError:\n",
    "                        pass\n",
    "                    i+=1\n",
    "\n",
    "            for cur_folder in  os.listdir(folder+\"data/avg/\"):\n",
    "                try:\n",
    "                    key = cur_folder.replace(\".\",\"_\")\n",
    "                    val = FieldAvg(folder,cur_folder)\n",
    "                    setattr(self,key,val)\n",
    "                except IndexError:\n",
    "                    pass"
   ]
  },
  {
   "cell_type": "code",
   "execution_count": null,
   "metadata": {
    "collapsed": true
   },
   "outputs": [],
   "source": [
    "class Param:\n",
    "    def __init__(self,folder):\n",
    "        self.run=RunParam(folder)\n",
    "        self.avg=Avg(folder)\n",
    "        self.info=Info(folder)"
   ]
  }
 ],
 "metadata": {
  "kernelspec": {
   "display_name": "Python 3",
   "language": "python",
   "name": "python3"
  },
  "language_info": {
   "codemirror_mode": {
    "name": "ipython",
    "version": 3
   },
   "file_extension": ".py",
   "mimetype": "text/x-python",
   "name": "python",
   "nbconvert_exporter": "python",
   "pygments_lexer": "ipython3",
   "version": "3.4.3"
  }
 },
 "nbformat": 4,
 "nbformat_minor": 0
}
