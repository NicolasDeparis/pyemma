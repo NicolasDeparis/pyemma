{
 "cells": [
  {
   "cell_type": "code",
   "execution_count": 1,
   "metadata": {
    "collapsed": true
   },
   "outputs": [],
   "source": [
    "import os\n",
    "import numpy as np"
   ]
  },
  {
   "cell_type": "code",
   "execution_count": 2,
   "metadata": {
    "collapsed": true
   },
   "outputs": [],
   "source": [
    "def getnproc(path):\n",
    "    try:\n",
    "        nproc = len( os.listdir(path+os.listdir(path)[0]) )\n",
    "    except FileNotFoundError:\n",
    "        print(\"ERROR : can't determine nproc\")\n",
    "        nproc=0\n",
    "    return nproc"
   ]
  },
  {
   "cell_type": "code",
   "execution_count": 2,
   "metadata": {
    "collapsed": true
   },
   "outputs": [],
   "source": [
    "class Hop:\n",
    "    def __init__(self,stepnum,folder):\n",
    "        \n",
    "        self.exec_folder  = \"utils/hop/\"\n",
    "\n",
    "        self.number=stepnum\n",
    "#         self.folder=\"%s/%05d\"%(folder,stepnum)\n",
    "        self.folder=folder\n",
    "        \n",
    "        self.name=\"hop.%05d\"%stepnum\n",
    "        self.path=(\"%s%s\"%(folder,self.name))\n",
    "\n",
    "        self.nproc=getnproc(\"%s%05d/\"%(folder,stepnum))\n",
    "\n",
    "        self.den_name = self.path + \".den\"\n",
    "        self.tag_name = self.path + \".tag\"\n",
    "        self.den_isloaded=False\n",
    "        self.tag_isloaded=False\n",
    "\n",
    "########################################################################\n",
    "\n",
    "    def genDen(self):\n",
    "        commande=\"./\" + self.exec_folder + \"hop -in \" + self.folder + \" -o \" + self.path +\" -p 1 -nf \" + str(self.nproc) + \" -step \" + str(self.number)\n",
    "        print (\"executing %s\"%commande)\n",
    "        os.system(commande)\n",
    "\n",
    "    def readDen(self):\n",
    "        print (\"Reading file\", self.den_name)\n",
    "        with open(self.den_name, \"rb\") as file:\n",
    "            self.N = np.fromfile(file, dtype=np.int32   ,count=1)[0]\n",
    "            self.den = np.fromfile(file, dtype=np.float32 ,count=self.N)            \n",
    "            print (\"Read OK\")\n",
    "\n",
    "    def getDen(self,force=0):\n",
    "        if (not os.path.isfile(self.den_name) or force):\n",
    "            self.genDen()\n",
    "        self.readDen()\n",
    "        self.den_isloaded=True\n",
    "\n",
    "    def genTag(self):\n",
    "        commande =  \"./\" + self.exec_folder + \"regroup -root %s -douter 80. -dsaddle 200. -dpeak 240. -f77 -o %s\"%(self.path,self.path)\n",
    "        print (\"executing %s\"%commande)\n",
    "        os.system(commande)\n",
    "\n",
    "    def readTag(self):\n",
    "        print (\"Reading file\", self.tag_name)\n",
    "        with open(self.tag_name, \"rb\") as file:\n",
    "            dummy = np.fromfile(file, dtype=np.int32   ,count=1)\n",
    "            self.npart = np.fromfile(file, dtype=np.int32   ,count=1)[0]\n",
    "            self.ngrp = np.fromfile(file, dtype=np.int32   ,count=1)[0]\n",
    "            dummy = np.fromfile(file, dtype=np.int32   ,count=1)\n",
    "            dummy = np.fromfile(file, dtype=np.int32   ,count=1)\n",
    "            self.tag = np.fromfile(file, dtype=np.int32   ,count=self.npart)\n",
    "            dummy = np.fromfile(file, dtype=np.int32   ,count=1)        \n",
    "            print (\"Read OK\")\n",
    "\n",
    "    def readNGRP(self):\n",
    "        file = open(self.tag_name, \"rb\")\n",
    "        dummy \t= np.fromfile(file, dtype=np.int32   ,count=1)\n",
    "        self.npart = np.fromfile(file, dtype=np.int32   ,count=1)[0]\n",
    "        self.ngrp = np.fromfile(file, dtype=np.int32   ,count=1)[0]\n",
    "        file.close()\n",
    "\n",
    "    def getTag(self,force=0):\n",
    "        if (not os.path.isfile(self.tag_name) or force):\n",
    "            self.genTag()\n",
    "        self.readTag()\n",
    "        self.tag_isloaded=True\n",
    "\n",
    "########################################################################\n",
    "\n",
    "    def get(self,force=0):\n",
    "        self.getDen(force)\n",
    "        self.getTag(force)\n"
   ]
  }
 ],
 "metadata": {
  "kernelspec": {
   "display_name": "Python 3",
   "language": "python",
   "name": "python3"
  },
  "language_info": {
   "codemirror_mode": {
    "name": "ipython",
    "version": 3
   },
   "file_extension": ".py",
   "mimetype": "text/x-python",
   "name": "python",
   "nbconvert_exporter": "python",
   "pygments_lexer": "ipython3",
   "version": "3.4.3"
  }
 },
 "nbformat": 4,
 "nbformat_minor": 0
}
